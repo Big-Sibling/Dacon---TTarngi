import pandas as pd
from sklearn.ensemble import RandomForestClassifier

train = pd.read_csv("C:\Users\hop09\Desktop\따릉이 데이터.train.csv", unicode = utf-8)